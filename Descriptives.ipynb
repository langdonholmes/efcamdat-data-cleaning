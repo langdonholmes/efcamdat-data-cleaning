{
 "cells": [
  {
   "cell_type": "code",
   "execution_count": 1,
   "id": "66deff4d",
   "metadata": {},
   "outputs": [],
   "source": [
    "# Useful bits\n",
    "import re\n",
    "import json\n",
    "import os.path\n",
    "import pandas as pd\n",
    "import numpy as np\n",
    "\n",
    "# Interactive Computing\n",
    "from IPython.display import display\n",
    "import time\n",
    "from tqdm import tqdm\n",
    "\n",
    "# Visualization\n",
    "import seaborn as sns\n",
    "import matplotlib.pyplot as plt\n",
    "%matplotlib inline"
   ]
  },
  {
   "cell_type": "code",
   "execution_count": 19,
   "id": "a6a13df7",
   "metadata": {},
   "outputs": [
    {
     "data": {
      "text/html": [
       "<div>\n",
       "<style scoped>\n",
       "    .dataframe tbody tr th:only-of-type {\n",
       "        vertical-align: middle;\n",
       "    }\n",
       "\n",
       "    .dataframe tbody tr th {\n",
       "        vertical-align: top;\n",
       "    }\n",
       "\n",
       "    .dataframe thead th {\n",
       "        text-align: right;\n",
       "    }\n",
       "</style>\n",
       "<table border=\"1\" class=\"dataframe\">\n",
       "  <thead>\n",
       "    <tr style=\"text-align: right;\">\n",
       "      <th></th>\n",
       "      <th>id</th>\n",
       "      <th>lvl</th>\n",
       "      <th>unit</th>\n",
       "      <th>author_id</th>\n",
       "      <th>author_nationality</th>\n",
       "      <th>topic</th>\n",
       "      <th>topic_id</th>\n",
       "      <th>date</th>\n",
       "      <th>grade</th>\n",
       "      <th>text</th>\n",
       "    </tr>\n",
       "  </thead>\n",
       "  <tbody>\n",
       "    <tr>\n",
       "      <th>0</th>\n",
       "      <td>C18217</td>\n",
       "      <td>1</td>\n",
       "      <td>7</td>\n",
       "      <td>20967052</td>\n",
       "      <td>cn</td>\n",
       "      <td>Writing labels for a clothing store</td>\n",
       "      <td>22440</td>\n",
       "      <td>2012-04-20 21:12:14.890</td>\n",
       "      <td>79</td>\n",
       "      <td>Date:monday 11th. Time:9.30 am. From:Margaret...</td>\n",
       "    </tr>\n",
       "    <tr>\n",
       "      <th>1</th>\n",
       "      <td>C18541</td>\n",
       "      <td>1</td>\n",
       "      <td>1</td>\n",
       "      <td>21016113</td>\n",
       "      <td>cn</td>\n",
       "      <td>Introducing yourself by email</td>\n",
       "      <td>3535</td>\n",
       "      <td>2011-12-24 03:50:49.100</td>\n",
       "      <td>85</td>\n",
       "      <td>Dear teacher, My name's Yi Zhao,English is po...</td>\n",
       "    </tr>\n",
       "    <tr>\n",
       "      <th>2</th>\n",
       "      <td>C18648</td>\n",
       "      <td>1</td>\n",
       "      <td>1</td>\n",
       "      <td>20967075</td>\n",
       "      <td>cn</td>\n",
       "      <td>Introducing yourself by email</td>\n",
       "      <td>3535</td>\n",
       "      <td>2012-04-20 08:53:55.087</td>\n",
       "      <td>90</td>\n",
       "      <td>My name's Henry Hong, I was born in Nanjing o...</td>\n",
       "    </tr>\n",
       "    <tr>\n",
       "      <th>3</th>\n",
       "      <td>C20184</td>\n",
       "      <td>1</td>\n",
       "      <td>1</td>\n",
       "      <td>18898793</td>\n",
       "      <td>cn</td>\n",
       "      <td>Introducing yourself by email</td>\n",
       "      <td>3535</td>\n",
       "      <td>2011-12-14 08:54:48.380</td>\n",
       "      <td>95</td>\n",
       "      <td>Dear Sir, I'm Jianwen Zhang, from a little to...</td>\n",
       "    </tr>\n",
       "    <tr>\n",
       "      <th>4</th>\n",
       "      <td>C20185</td>\n",
       "      <td>1</td>\n",
       "      <td>2</td>\n",
       "      <td>18898793</td>\n",
       "      <td>cn</td>\n",
       "      <td>Taking inventory in the office</td>\n",
       "      <td>9820</td>\n",
       "      <td>2011-12-26 09:49:48.140</td>\n",
       "      <td>98</td>\n",
       "      <td>Dear Ms Thomas, There are thirteen computers ...</td>\n",
       "    </tr>\n",
       "    <tr>\n",
       "      <th>...</th>\n",
       "      <td>...</td>\n",
       "      <td>...</td>\n",
       "      <td>...</td>\n",
       "      <td>...</td>\n",
       "      <td>...</td>\n",
       "      <td>...</td>\n",
       "      <td>...</td>\n",
       "      <td>...</td>\n",
       "      <td>...</td>\n",
       "      <td>...</td>\n",
       "    </tr>\n",
       "    <tr>\n",
       "      <th>549276</th>\n",
       "      <td>U718945</td>\n",
       "      <td>16</td>\n",
       "      <td>2</td>\n",
       "      <td>21649452</td>\n",
       "      <td>us</td>\n",
       "      <td>Writing about a symbol of your country</td>\n",
       "      <td>8341</td>\n",
       "      <td>2012-09-04 02:47:23.180</td>\n",
       "      <td>65</td>\n",
       "      <td>THE SPACE NEEDLE The United States's Northwes...</td>\n",
       "    </tr>\n",
       "    <tr>\n",
       "      <th>549277</th>\n",
       "      <td>U719493</td>\n",
       "      <td>16</td>\n",
       "      <td>1</td>\n",
       "      <td>24750663</td>\n",
       "      <td>ae</td>\n",
       "      <td>Attending a robotics conference</td>\n",
       "      <td>7524</td>\n",
       "      <td>2012-09-05 20:41:18.933</td>\n",
       "      <td>0</td>\n",
       "      <td>This is a most new matter of proto and Robots...</td>\n",
       "    </tr>\n",
       "    <tr>\n",
       "      <th>549278</th>\n",
       "      <td>U722572</td>\n",
       "      <td>16</td>\n",
       "      <td>5</td>\n",
       "      <td>22117882</td>\n",
       "      <td>br</td>\n",
       "      <td>Using creative writing techniques</td>\n",
       "      <td>9146</td>\n",
       "      <td>2012-09-17 20:59:34.413</td>\n",
       "      <td>96</td>\n",
       "      <td>Hi Tabby, Never mind about asking me such a f...</td>\n",
       "    </tr>\n",
       "    <tr>\n",
       "      <th>549279</th>\n",
       "      <td>U724086</td>\n",
       "      <td>16</td>\n",
       "      <td>2</td>\n",
       "      <td>19328467</td>\n",
       "      <td>sa</td>\n",
       "      <td>Writing about a symbol of your country</td>\n",
       "      <td>8341</td>\n",
       "      <td>2012-09-23 06:55:59.733</td>\n",
       "      <td>94</td>\n",
       "      <td>Oil Tower Statue It is a statue of transition...</td>\n",
       "    </tr>\n",
       "    <tr>\n",
       "      <th>549280</th>\n",
       "      <td>U725092</td>\n",
       "      <td>16</td>\n",
       "      <td>1</td>\n",
       "      <td>19643771</td>\n",
       "      <td>tw</td>\n",
       "      <td>Attending a robotics conference</td>\n",
       "      <td>7524</td>\n",
       "      <td>2012-09-27 21:40:29.393</td>\n",
       "      <td>85</td>\n",
       "      <td>The human history had thousands years and con...</td>\n",
       "    </tr>\n",
       "  </tbody>\n",
       "</table>\n",
       "<p>549281 rows × 10 columns</p>\n",
       "</div>"
      ],
      "text/plain": [
       "             id lvl unit author_id author_nationality  \\\n",
       "0        C18217   1    7  20967052                 cn   \n",
       "1        C18541   1    1  21016113                 cn   \n",
       "2        C18648   1    1  20967075                 cn   \n",
       "3        C20184   1    1  18898793                 cn   \n",
       "4        C20185   1    2  18898793                 cn   \n",
       "...         ...  ..  ...       ...                ...   \n",
       "549276  U718945  16    2  21649452                 us   \n",
       "549277  U719493  16    1  24750663                 ae   \n",
       "549278  U722572  16    5  22117882                 br   \n",
       "549279  U724086  16    2  19328467                 sa   \n",
       "549280  U725092  16    1  19643771                 tw   \n",
       "\n",
       "                                         topic topic_id  \\\n",
       "0          Writing labels for a clothing store    22440   \n",
       "1                Introducing yourself by email     3535   \n",
       "2                Introducing yourself by email     3535   \n",
       "3                Introducing yourself by email     3535   \n",
       "4               Taking inventory in the office     9820   \n",
       "...                                        ...      ...   \n",
       "549276  Writing about a symbol of your country     8341   \n",
       "549277         Attending a robotics conference     7524   \n",
       "549278       Using creative writing techniques     9146   \n",
       "549279  Writing about a symbol of your country     8341   \n",
       "549280         Attending a robotics conference     7524   \n",
       "\n",
       "                           date grade  \\\n",
       "0       2012-04-20 21:12:14.890    79   \n",
       "1       2011-12-24 03:50:49.100    85   \n",
       "2       2012-04-20 08:53:55.087    90   \n",
       "3       2011-12-14 08:54:48.380    95   \n",
       "4       2011-12-26 09:49:48.140    98   \n",
       "...                         ...   ...   \n",
       "549276  2012-09-04 02:47:23.180    65   \n",
       "549277  2012-09-05 20:41:18.933     0   \n",
       "549278  2012-09-17 20:59:34.413    96   \n",
       "549279  2012-09-23 06:55:59.733    94   \n",
       "549280  2012-09-27 21:40:29.393    85   \n",
       "\n",
       "                                                     text  \n",
       "0        Date:monday 11th. Time:9.30 am. From:Margaret...  \n",
       "1        Dear teacher, My name's Yi Zhao,English is po...  \n",
       "2        My name's Henry Hong, I was born in Nanjing o...  \n",
       "3        Dear Sir, I'm Jianwen Zhang, from a little to...  \n",
       "4        Dear Ms Thomas, There are thirteen computers ...  \n",
       "...                                                   ...  \n",
       "549276   THE SPACE NEEDLE The United States's Northwes...  \n",
       "549277   This is a most new matter of proto and Robots...  \n",
       "549278   Hi Tabby, Never mind about asking me such a f...  \n",
       "549279   Oil Tower Statue It is a statue of transition...  \n",
       "549280   The human history had thousands years and con...  \n",
       "\n",
       "[549281 rows x 10 columns]"
      ]
     },
     "execution_count": 19,
     "metadata": {},
     "output_type": "execute_result"
    }
   ],
   "source": [
    "all_levels = pd.read_pickle('all_levels.pkl')\n",
    "all_levels['text'] = all_levels['text'].str.replace(r'\\s+', r' ', regex=True)\n",
    "all_levels"
   ]
  },
  {
   "cell_type": "code",
   "execution_count": 115,
   "id": "d4689e1c",
   "metadata": {},
   "outputs": [
    {
     "name": "stdout",
     "output_type": "stream",
     "text": [
      "(549281, 10)\n",
      "(531180, 10)\n",
      "(522900, 10)\n",
      "(516049, 10)\n",
      "(515370, 10)\n",
      "(514313, 10)\n",
      "(514313, 10)\n",
      "(514313, 10)\n"
     ]
    }
   ],
   "source": [
    "from scipy import stats\n",
    "\n",
    "\n",
    "intermediate_df = all_levels.copy()\n",
    "print(intermediate_df.shape)\n",
    "intermediate_df['grade'] = pd.to_numeric(intermediate_df['grade'].astype(str), errors='coerce').fillna(0).astype(int)\n",
    "# intermediate_df.drop(intermediate_df[intermediate_df['grade'] < 1 ].index , inplace=True)\n",
    "\n",
    "for i in range(7):\n",
    "    intermediate_df.drop(intermediate_df[(np.abs(stats.zscore(intermediate_df['grade'])) >= 2.5)].index , inplace=True)\n",
    "    print(intermediate_df.shape)\n",
    "    \n",
    "learner_avg_grade = intermediate_df.groupby('author_id').grade.transform(np.mean).rename('learner_avg_grade')\n",
    "df = pd.concat([intermediate_df, learner_avg_grade], axis=1)\n",
    "\n"
   ]
  },
  {
   "cell_type": "markdown",
   "id": "9fbebd44",
   "metadata": {},
   "source": [
    "Table 1\n",
    "\n",
    "Descriptive statistics to include M, SD, Median, Mode, Min, Max, Range"
   ]
  },
  {
   "cell_type": "code",
   "execution_count": 116,
   "id": "0594ed46",
   "metadata": {},
   "outputs": [
    {
     "data": {
      "text/html": [
       "<div>\n",
       "<style scoped>\n",
       "    .dataframe tbody tr th:only-of-type {\n",
       "        vertical-align: middle;\n",
       "    }\n",
       "\n",
       "    .dataframe tbody tr th {\n",
       "        vertical-align: top;\n",
       "    }\n",
       "\n",
       "    .dataframe thead th {\n",
       "        text-align: right;\n",
       "    }\n",
       "</style>\n",
       "<table border=\"1\" class=\"dataframe\">\n",
       "  <thead>\n",
       "    <tr style=\"text-align: right;\">\n",
       "      <th></th>\n",
       "      <th>mean</th>\n",
       "      <th>median</th>\n",
       "      <th>mode</th>\n",
       "      <th>minimum</th>\n",
       "      <th>maximum</th>\n",
       "      <th>range</th>\n",
       "    </tr>\n",
       "  </thead>\n",
       "  <tbody>\n",
       "    <tr>\n",
       "      <th>0</th>\n",
       "      <td>91.538583</td>\n",
       "      <td>91.75</td>\n",
       "      <td>90.0</td>\n",
       "      <td>75.0</td>\n",
       "      <td>100.0</td>\n",
       "      <td>25.0</td>\n",
       "    </tr>\n",
       "  </tbody>\n",
       "</table>\n",
       "</div>"
      ],
      "text/plain": [
       "        mean  median  mode  minimum  maximum  range\n",
       "0  91.538583   91.75  90.0     75.0    100.0   25.0"
      ]
     },
     "metadata": {},
     "output_type": "display_data"
    },
    {
     "name": "stdout",
     "output_type": "stream",
     "text": [
      "\\begin{tabular}{rrrrrr}\n",
      "\\toprule\n",
      " mean &  median &  mode &  minimum &  maximum &  range \\\\\n",
      "\\midrule\n",
      "91.54 &   91.75 &  90.0 &     75.0 &    100.0 &   25.0 \\\\\n",
      "\\bottomrule\n",
      "\\end{tabular}\n",
      "\n"
     ]
    }
   ],
   "source": [
    "descriptives = pd.DataFrame([(df.learner_avg_grade.mean(),\n",
    "                              df.learner_avg_grade.median(),\n",
    "                              df.learner_avg_grade.mode()[0],\n",
    "                              df.learner_avg_grade.min(),\n",
    "                              df.learner_avg_grade.max(),\n",
    "                              df.learner_avg_grade.max() - df.learner_avg_grade.min())],\n",
    "                              columns=('mean',\n",
    "                                       'median',\n",
    "                                       'mode',\n",
    "                                       'minimum',\n",
    "                                       'maximum',\n",
    "                                       'range'))\n",
    "\n",
    "display(descriptives)\n",
    "print(descriptives.round(2).to_latex(index=False))  "
   ]
  },
  {
   "cell_type": "markdown",
   "id": "c3135842",
   "metadata": {},
   "source": [
    "Table 2\n",
    "\n",
    "Skewness and kurtosis"
   ]
  },
  {
   "cell_type": "code",
   "execution_count": 108,
   "id": "0113b6c4",
   "metadata": {},
   "outputs": [
    {
     "data": {
      "text/html": [
       "<div>\n",
       "<style scoped>\n",
       "    .dataframe tbody tr th:only-of-type {\n",
       "        vertical-align: middle;\n",
       "    }\n",
       "\n",
       "    .dataframe tbody tr th {\n",
       "        vertical-align: top;\n",
       "    }\n",
       "\n",
       "    .dataframe thead th {\n",
       "        text-align: right;\n",
       "    }\n",
       "</style>\n",
       "<table border=\"1\" class=\"dataframe\">\n",
       "  <thead>\n",
       "    <tr style=\"text-align: right;\">\n",
       "      <th></th>\n",
       "      <th>skew</th>\n",
       "      <th>kurtosis</th>\n",
       "    </tr>\n",
       "  </thead>\n",
       "  <tbody>\n",
       "    <tr>\n",
       "      <th>0</th>\n",
       "      <td>-0.641529</td>\n",
       "      <td>1.638163</td>\n",
       "    </tr>\n",
       "  </tbody>\n",
       "</table>\n",
       "</div>"
      ],
      "text/plain": [
       "       skew  kurtosis\n",
       "0 -0.641529  1.638163"
      ]
     },
     "metadata": {},
     "output_type": "display_data"
    },
    {
     "name": "stdout",
     "output_type": "stream",
     "text": [
      "\\begin{tabular}{rr}\n",
      "\\toprule\n",
      " skew &  kurtosis \\\\\n",
      "\\midrule\n",
      "-0.64 &      1.64 \\\\\n",
      "\\bottomrule\n",
      "\\end{tabular}\n",
      "\n"
     ]
    }
   ],
   "source": [
    "table2 = pd.DataFrame([(df.learner_avg_grade.skew(),\n",
    "                              df.learner_avg_grade.kurtosis())],\n",
    "                              columns=('skew',\n",
    "                                       'kurtosis'))\n",
    "\n",
    "display(table2)\n",
    "print(table2.round(2).to_latex(index=False))  "
   ]
  },
  {
   "cell_type": "markdown",
   "id": "512052cd",
   "metadata": {},
   "source": [
    "Table 3\n",
    "\n",
    "Tests of normality"
   ]
  },
  {
   "cell_type": "code",
   "execution_count": 109,
   "id": "d703f1d1",
   "metadata": {},
   "outputs": [
    {
     "name": "stdout",
     "output_type": "stream",
     "text": [
      "Statistics=0.977, p=0.000\n",
      "Sample does not look Gaussian (reject H0)\n"
     ]
    },
    {
     "name": "stderr",
     "output_type": "stream",
     "text": [
      "/opt/conda/lib/python3.8/site-packages/scipy/stats/morestats.py:1681: UserWarning: p-value may not be accurate for N > 5000.\n",
      "  warnings.warn(\"p-value may not be accurate for N > 5000.\")\n"
     ]
    },
    {
     "data": {
      "text/html": [
       "<div>\n",
       "<style scoped>\n",
       "    .dataframe tbody tr th:only-of-type {\n",
       "        vertical-align: middle;\n",
       "    }\n",
       "\n",
       "    .dataframe tbody tr th {\n",
       "        vertical-align: top;\n",
       "    }\n",
       "\n",
       "    .dataframe thead th {\n",
       "        text-align: right;\n",
       "    }\n",
       "</style>\n",
       "<table border=\"1\" class=\"dataframe\">\n",
       "  <thead>\n",
       "    <tr style=\"text-align: right;\">\n",
       "      <th></th>\n",
       "      <th>Statistic</th>\n",
       "      <th>Sig.</th>\n",
       "    </tr>\n",
       "  </thead>\n",
       "  <tbody>\n",
       "    <tr>\n",
       "      <th>Shapiro</th>\n",
       "      <td>0.977128</td>\n",
       "      <td>0.0</td>\n",
       "    </tr>\n",
       "    <tr>\n",
       "      <th>Kolmogorov-Smirnov</th>\n",
       "      <td>1.000000</td>\n",
       "      <td>0.0</td>\n",
       "    </tr>\n",
       "  </tbody>\n",
       "</table>\n",
       "</div>"
      ],
      "text/plain": [
       "                    Statistic  Sig.\n",
       "Shapiro              0.977128   0.0\n",
       "Kolmogorov-Smirnov   1.000000   0.0"
      ]
     },
     "metadata": {},
     "output_type": "display_data"
    },
    {
     "name": "stdout",
     "output_type": "stream",
     "text": [
      "\\begin{tabular}{lrr}\n",
      "\\toprule\n",
      "{} &  Statistic &  Sig. \\\\\n",
      "\\midrule\n",
      "Shapiro            &       0.98 &   0.0 \\\\\n",
      "Kolmogorov-Smirnov &       1.00 &   0.0 \\\\\n",
      "\\bottomrule\n",
      "\\end{tabular}\n",
      "\n"
     ]
    }
   ],
   "source": [
    "from numpy.random import seed\n",
    "from scipy.stats import shapiro\n",
    "# seed the random number generator\n",
    "seed(1)\n",
    "# normality test\n",
    "stat, p = shapiro(df.learner_avg_grade)\n",
    "print('Statistics=%.3f, p=%.3f' % (stat, p))\n",
    "# interpret\n",
    "alpha = 0.05\n",
    "if p > alpha:\n",
    "    print('Sample looks Gaussian (fail to reject H0)')\n",
    "else:\n",
    "    print('Sample does not look Gaussian (reject H0)')\n",
    "    \n",
    "table3 = pd.DataFrame([(shapiro(df.learner_avg_grade)),\n",
    "                       (kstest(df.learner_avg_grade, 'norm'))],\n",
    "                        index = ('Shapiro',\n",
    "                                'Kolmogorov-Smirnov'),\n",
    "                        columns=('Statistic',\n",
    "                                 'Sig.'))\n",
    "\n",
    "display(table3)\n",
    "print(table3.round(2).to_latex(index=True))  "
   ]
  },
  {
   "cell_type": "markdown",
   "id": "f92a1287",
   "metadata": {},
   "source": [
    "Figure 1\n",
    "\n",
    "Histogram"
   ]
  },
  {
   "cell_type": "code",
   "execution_count": 110,
   "id": "f778a5e9",
   "metadata": {},
   "outputs": [
    {
     "data": {
      "text/plain": [
       "<AxesSubplot:xlabel='learner_avg_grade', ylabel='Count'>"
      ]
     },
     "execution_count": 110,
     "metadata": {},
     "output_type": "execute_result"
    },
    {
     "data": {
      "image/png": "[encoded data removed]",
      "text/plain": [
       "<Figure size 432x288 with 1 Axes>"
      ]
     },
     "metadata": {
      "needs_background": "light"
     },
     "output_type": "display_data"
    }
   ],
   "source": [
    "sns.histplot(data=df, x=\"learner_avg_grade\")"
   ]
  },
  {
   "cell_type": "markdown",
   "id": "5081ee76",
   "metadata": {},
   "source": [
    "Figure 2\n",
    "\n",
    "Q-Q plots"
   ]
  },
  {
   "cell_type": "code",
   "execution_count": 112,
   "id": "08506366",
   "metadata": {},
   "outputs": [],
   "source": [
    "df.to_csv(\"learner_avg_grade_for_descriptive_statistcs.csv\")"
   ]
  },
  {
   "cell_type": "markdown",
   "id": "9b6bfdf9",
   "metadata": {},
   "source": [
    "Figure 3\n",
    "\n",
    "Box plots"
   ]
  },
  {
   "cell_type": "code",
   "execution_count": 120,
   "id": "aba36bf0",
   "metadata": {},
   "outputs": [
    {
     "data": {
      "text/plain": [
       "<AxesSubplot:xlabel='author_id', ylabel='Count'>"
      ]
     },
     "execution_count": 120,
     "metadata": {},
     "output_type": "execute_result"
    },
    {
     "data": {
      "image/png": "[encoded data removed]",
      "text/plain": [
       "<Figure size 432x288 with 1 Axes>"
      ]
     },
     "metadata": {
      "needs_background": "light"
     },
     "output_type": "display_data"
    }
   ],
   "source": [
    "sns.histplot(df.author_id.value_counts())"
   ]
  }
 ],
 "metadata": {
  "kernelspec": {
   "display_name": "Python 3 (ipykernel)",
   "language": "python",
   "name": "python3"
  },
  "language_info": {
   "codemirror_mode": {
    "name": "ipython",
    "version": 3
   },
   "file_extension": ".py",
   "mimetype": "text/x-python",
   "name": "python",
   "nbconvert_exporter": "python",
   "pygments_lexer": "ipython3",
   "version": "3.8.10"
  }
 },
 "nbformat": 4,
 "nbformat_minor": 5
}
