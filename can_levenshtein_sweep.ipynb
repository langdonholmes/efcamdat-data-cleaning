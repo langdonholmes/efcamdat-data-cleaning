{
 "cells": [
  {
   "cell_type": "markdown",
   "id": "2ac3b265",
   "metadata": {},
   "source": [
    "# Q: Can we use levenshtein distance to identify writing samples that merely reflect the language of the prompt?\n",
    "\n",
    "### Edit Distance\n",
    "\n",
    "Levenshtein distance computes the edit distance between two strings. Allowable operations are deletions, insertions, and substitutions.\n",
    "\n",
    "This will need to be prompt specific. So we will run the code separately for each prompt, for each level.\n",
    "\n",
    "We run into a factorial situation if we compare every sample with every other sample (N!). \n",
    "\n",
    "A potential way around this computationally expensive approach would be to create a median string.\n",
    "\n",
    "Imagine we have some responses that are more or less echos of the prompt. These responses will be similar to each other. We can compute the median string from this bag of highly similar responses. Rather than comparing the next response to each of these, we can compare it to the median string. There will probably be one median string that closely approximates the prompt (in terms of edit distance, in reality it will be a gibberish stream of characters).\n",
    "\n",
    "Anyway, that's a lot of writing. Let's see what happens when we code it :)"
   ]
  },
  {
   "cell_type": "code",
   "execution_count": 49,
   "id": "e52b1c84",
   "metadata": {},
   "outputs": [],
   "source": [
    "import Levenshtein as lev\n",
    "from IPython.display import display\n",
    "import pandas as pd"
   ]
  },
  {
   "cell_type": "code",
   "execution_count": 2,
   "id": "a8d98ce1",
   "metadata": {},
   "outputs": [
    {
     "name": "stdout",
     "output_type": "stream",
     "text": [
      "549281\n"
     ]
    }
   ],
   "source": [
    "all_levels = pd.read_csv('all_levels.csv', low_memory=False)\n",
    "print(len(all_levels))"
   ]
  },
  {
   "cell_type": "code",
   "execution_count": 35,
   "id": "8aa2a9fa",
   "metadata": {},
   "outputs": [
    {
     "name": "stdout",
     "output_type": "stream",
     "text": [
      "41950\n"
     ]
    }
   ],
   "source": [
    "test_topic = all_levels[all_levels['topic_id']==3535].dropna().reset_index(drop=True)\n",
    "print(len(test_topic))"
   ]
  },
  {
   "cell_type": "markdown",
   "id": "ab113d3c",
   "metadata": {},
   "source": [
    "For testing the idea, let's just \"train\" a median string on a training set and \"test\" on a testing set."
   ]
  },
  {
   "cell_type": "code",
   "execution_count": 44,
   "id": "5639a1d3",
   "metadata": {},
   "outputs": [
    {
     "name": "stdout",
     "output_type": "stream",
     "text": [
      "He am teacher    name is  an  i n  am e no m e  in y a n o    in a e is o d nu in e  an \n",
      "***By edit distance:\n",
      "Hi  teacher.  My   name's    Cow  milk,i'm  26  years   old ,  I  come   from  Jiangsu   changzhou\n",
      "hi teacher:   my name is leo,i am 20 old. i like swiming,dancing .\n",
      "Hello,teacher,My name's Anly luo,I come from China Chongqing\n",
      "Dear teacher:      My name's Wumaocheng.      My phone's number is 13372181885\n",
      "Dear teacher:                      My name's ZhangHui,I'm Chinese.I'm a new student.\n",
      "***By ratio:\n",
      "Hi  teacher.  My   name's    Cow  milk,i'm  26  years   old ,  I  come   from  Jiangsu   changzhou\n",
      "Dear teacher:    My  name is Amy.   I'm  form to Tw,I 'm  live  in NanChang  city.  I'm  fourty  seven year old.\n",
      "hi teacher:   my name is leo,i am 20 old. i like swiming,dancing .\n",
      "Hello:       My  name's  Deng Quang Liu. I'm from  to HeFei.  I  want to speeking english . What's your  name ?\n",
      "Hello , teacher; My name is annis. Nice to meet you. I like English very much. Thanks for you teach me at my learning. I hope my English very well by you.\n",
      "Dear teacher:                      My name's ZhangHui,I'm Chinese.I'm a new student.\n",
      "Hello teacher My name's Iok Kan Si. You can call me Ken. I'm a EF new student.I live in QuanZhou.I love popular songs.\n",
      "Dear teacher : My name is zhaodan .It is my chinese name .I have two babys ,my son and my daughter .Today is Monday ! The fist day i am learnning English !I am so happy !\n",
      "Hi,He  teacher. I'm a  new   studen.   My   name's  sally. I'm   41   years  old.  My  hair   is   black   and  long.   I'm   a   house    wife.\n",
      "hi dear teacher:             my name's andy and  32years old this year .i'm come form hunan yueyang .              i'm glad to ef in study.thanks\n",
      "Dear Teacher:     My name is ruilian Li .I'm a new student.I com here to study English for my work.   I'll study hard,pleise help me a lot.\n"
     ]
    }
   ],
   "source": [
    "med_str = lev.median(test_topic['text'][0:100])\n",
    "print(med_str)\n",
    "\n",
    "print('***By edit distance:')\n",
    "for text in test_topic['text'][100:200]:\n",
    "    if lev.distance(med_str, text) < 60:\n",
    "        print(text)\n",
    "\n",
    "print('***By ratio:')\n",
    "# The same thing, but using ratio instead of distance.\n",
    "for text in test_topic['text'][100:200]:\n",
    "    if lev.ratio(med_str, text) > .5:\n",
    "        print(text)"
   ]
  },
  {
   "cell_type": "markdown",
   "id": "837bb28a",
   "metadata": {},
   "source": [
    "### FAIL\n",
    "\n",
    "This simply does not work (for this prompt). We can identify \"Hello teacher\", \"my name is\", and \"I'm from\", but I don't think we want to clean these samples. (bummer)\n",
    "\n",
    "Kind of interesting that most characters with high variance are averaged to \"e\" in the median string. Reminds me of __[Gadsby](https://en.wikipedia.org/wiki/Gadsby_(novel))__\n",
    "\n",
    "Let's try a more advanced prompt, just in case the results look a bit more interesting."
   ]
  },
  {
   "cell_type": "code",
   "execution_count": 48,
   "id": "ad8cb919",
   "metadata": {},
   "outputs": [
    {
     "name": "stdout",
     "output_type": "stream",
     "text": [
      "Median string is: Joe ano nale  Lti e ion l oan ge ion a n ues tor  na no ant ring Mon aiter ion  ale ion an  er eting Manager  o a ion a e aon ain  eo r e tine san age ri  e aon dusies in cale ae d esin a d erts mana e projects , or with sales to build client base.  e aine ion  ie  irem nts : e  e ar etin  or similar  e aere ene ant experience  a a re ran e a n  roe tie  an e er ant \n",
      "\n",
      "We are looking for a  regional marketing manager. Job duties:Design adverts, manage projects, work with sales to build client base . Minimum requirements: BA marketing or similar,3 yrs relevant experience . Salary range: $35,000 to $40,000. John Tiles LTD is manufacturing idustry and locating  Manchester.\n",
      "\n",
      "Regional Marketing Manager is needed by John Tiles Ltd., which is located in Manchester. Everyone who is reliable,efficiently,honest and experienced on marketing are needed for this job. Job Duties:Design adverts,Manage projects,Work with sales to build client base Minimum Requirments:BA Marketing or similar;3 years relevant experience. Salary range:$35000 to $40000\n",
      "\n",
      "John Tiles Ltd.is looking for a Regional Marketing Manager in Manufacturing in Machester. Job duties include Design adverts,manage projects and work with sales to build client base. BA marketing or similar,3yrs revelant experience needed. Salary ranges from $3,500 to $4,000.\n",
      "\n",
      "John Tiles Ltd(locats Manchester ),the industry of manufacturing, is looking a fun, outgoing ,excellent candinates of Regioal Marketing Manager. Job duties include designing adverts, manage projects, working with salaes to build client. Minimum requirements: BA Marketing or similar, 3 yrs relevant experience. Pay runs $3500 to $4000 If interested please reply to huangshaocheng.l@163.com Thank You John Tiles Ltd 2011.9.26\n",
      "\n",
      "John Tiles Ltd located at Manchester is looking for a  Regional Marketing Manager who has BA Marketing or similar ,3 yrs relevant experience. Job duties include designing adverts,managing projects, working sales to build client base. Pay runs from $35,000 to $40,000 depending on experience. If interested,please email us with your contact information and resume to set up a interview.\n",
      "\n",
      "Company name: Yonggang group Industry: Manufacturing Position: Project Design Manager  Location: Suzhou, China Job duties: design project and technique support, work with engineers to build client base  Minimum requirements: BA Mechanic Design or similar, 3 years relevant experience. Salary range: $35000 to $45000\n",
      "\n",
      "Regional Marketing Manager (Manchester) John Tiles is looking to hire a full time Regional Marketing Manager. Please review our website to get a better understanding of our company. www.johntiles.com. Duties include but not limited to: Design adverts, manage projects, work with sales to build client base. Minium requirements will have BA Marketing or similar, 3 years relevant experience, good communication skills are a must. Pay is based on experience, $35,000 to $40,000, 20 dyas paid vacation.\n",
      "\n",
      "Regional Marketing Manager -John Tiles Ltd (Manchester) John Tiles Ltd,a larger  manufacturing company in Manchester is looking to hire a full time Regional Marketing Manager. Duties include but not limited to:design adverts,manage projects,work with sales to build client base. Requirement   B.A. Marketing is a plus   Or similar 3 years relevent experience   Hardworking   Reliable   Be able to take on resposible   Efficient Salery range   pay is based on experience $35000 to %40000.\n",
      "\n",
      "Job Advertisement John Tiles company is looking for a Regional Marketing Manager who is enthusiastic, responsable and outgoing. We needs a person who has good experience at sales and management. Job duties:  design adverts, manage projects, work with sales to build client base. Minimum requirements: BA Marketing or similar, 3 years relevant experience. Salary range: $35,000 to $40,000. Location:Manchester. Please email us to werer@126.com.   Yous  Mr. Heng\n",
      "\n",
      "A refional marketing manager is required in John Tiles Ltd in Manchester .  The corporation is belonged to manufacturing .  The manager should be able to design adverts ,  manage projects .  work with sales to build client base .  The minimum requirement is BA Marketing or similar . And he should have 3 years relevant experience .  The salary range is $35,000  to $40,000.If you interested it ,  please contact us .\n",
      "\n",
      "John Tiles Ltd. locates in Manchester, it belongs to Manufacturing industry, if someone who is hardwording, efficient and organizing, please send e-mail to us to apply the position of Regional Marketing Manager, the job duties include Design adverts, manage projects, work with sales to build client base. BA Marketing or similar, 3 yrs relevant experience is minimum requirements. Also, pay runs from $35,000 to $40,000 depend on your experience. Don't hesitate, we are waiting for your resume.\n",
      "\n",
      "Interview Advertising Our company has a blank position of Regional Marketing Manager. If you are interesting in it,please see the below information. Company name:John Tiles Ltd. Industry:Manufacturing Location:Manchester Duties and Requirements:Design adverts and manage projects.Work with sales to build client base.BA marketing or similar and 3 years relevant experience. Salary range:$35000 to $40000 as experience\n",
      "\n",
      "Regional Marketing Manager/John Tiles Ltd. Date:2011-10-08,6pm  John Tiles Ltd. is looking for a Regional Marketing Manager. This opsition must be have very strong organized,ambitions,intelligents and reliable,also responsible.Work location in Manchester.  Job duties include design adverts,manage projectand work with sales to duild client base.That's preferred with BA Marketing or similar degrees and 3 years relevant experience.  Salary runs from $35,000 -$40,000 depending on experience.\n",
      "\n",
      "Job Vacancy Our company, John Tiles Ltd., is engaged in the industry of manufacturing. At present,We looking for a talent in the position of Regional Marketing Manager in Manchester, the job duties contains: design adverts,manage projects, work with sales to build client base,and some other related matters. the qualification requirement for the position: BA marketing or similar, with 3 years relevant experience.  If you are qualified for the above, please contact us, we will pay you salary range:$35,000~40,000.\n",
      "\n",
      "John Tiles Ltd. is looking to hire a full time Regional Marketing Manager.Our company is manufacturing industry,please review our website to get a better understanding of our company. www.johntiles.com Job duties: Design adverts, manage projects, work with sales to build client base Minimum requirements: BA Marketing or similar, 3 yrs relevant experience Pay is based on experience $35,000 to $40,000, 2 weeks paid vacation. Location: Manchester\n",
      "\n",
      "The John Tiles Ltd is a Manufacturing company. We are looking for an Regional Marketing Manger. General Job Descriptions: Design adverts, manager projects, work with sales to build  client base to delver the sales. Requirements: At least BA Marketing or similar, 3 years relevant experience. Salary range: $35,000 to $40,000\n",
      "\n",
      "John Tiles Ltd. is a manufacturing industy. Offices are located in Manchester. Now we are looking for  the position, Regional Marketing Manager who is a hard-working, responsible and experienced.  Job duties  include desigh adverts, manage projects, work with sales to build client base. This position require  BA Marketing or similar, 3 yrs relevant experience. Pay is based on experience $ 35,000 to $ 40,000 . This is a great job for aspiring person. If interested, please email us with your contact information and resume to set up an interview.\n",
      "\n",
      "Regional Marketing Manager John Tiles Ltd is looking for a person who be the Regional Marketing Manager for this manufacturing campany  in Manchester. Job duties include design adverts,  manage  projects, work with  sales to build client base.    3 yrs relevant experience and BA Marketing or similar is a plus. Pay runs from $35,000 to $40,000 depending on experience.\n",
      "\n",
      "Company name:John Tiles Ltd Industry:Manufacturing Location:Manchester Position:Regional Marketing Manager Job duties:The manager is responsible for design adverts,manage projects and work with sales to build client base Minimum requirements of the Job: BA Marketing or similar and 3 years relevant working experience Salary range: $35,000 to $40,000 I f you are interested in the position, please send your resume to us soon.\n",
      "\n",
      "John Tiles Ltd is looking for Regional Marketing Manager. Our company is focus on Manufacturing. Company is located in Manchester. Duties including design adverts,manageing projects and working with sales to bulid client base. Minimum requirement of this position is BA marketing or similar, and 3yrs relevant experience. The salary range is $35.000 t0 40,000.\n",
      "\n",
      "John Tiles Ltd. is looking for a responsible, experienced, individual who wants to become a Regional Marketing Manager of Manufacturing in Manchester. Job duties include designing adverts, managing projects and working with sales to build client base. Pay runs from 35,000 dollars to 40,000 dollars depending on experience. Minimum requirements: BA Marketing or similar, 3yrs relevant experience is a plus. If interested, please email us with your contact information and resume to set up an interview. Thank you\n",
      "\n",
      "John Tiles Ltd. Located in Manchester, is seeking a enthusiastic, outgoing, responsible, and experienced Regional Marketing Manager to become part of our team as a full-time. John Tiles  is a famous manufacturing firm in the world.      Duties include but are not limited to: Design adverts, manage projects, work with sales to build client base.      Minimum requirements: BA Marketing or similar, 3 yrs relevant experience.     Salary range: $35000 to $40000     Please send an application and/or resume to:     Human Resources Department     ohn Tiles Ltd.     Or Reply to:  job123@john.com\n",
      "\n",
      "\"John tiles Ltd\"  a manufacturing industry is looking for a  regional Marketing Manager, Job duties include design adverts ,manage projects and work with sales to build client base. pay run from $35.000 to $40.000 depending on experience . Minimum requirements is BA Marketing or similar ,3 yrs relevant wxperience. If  interested ,please email us with you contact imformation and resume to set up an interview .\n",
      "\n",
      "The John Tiles Led. ,that is in manufacturing ,is looking for a Regional Marketing Manager. The job location is in Manchester.The job duties inclue that design adverts,manage projects and work with sales to build client base.Mininum requirements are BA Marketing or similar and 3 years relevant experience. The salary range is $35,000 to $40,000 Welcome to the company ,you will have a good chance to chanllenge yourself. If you want to join in us ,please to tell the phone  57459288.\n",
      "\n"
     ]
    }
   ],
   "source": [
    "# display(all_levels[all_levels['lvl']==7])\n",
    "test_topic = all_levels[all_levels['topic_id']==3124].dropna().reset_index(drop=True)\n",
    "\n",
    "\n",
    "med_str = lev.median(test_topic['text'][0:100])\n",
    "print('Median string is:', med_str, end='\\n\\n')\n",
    "for text in test_topic['text'][100:200]:\n",
    "    if lev.ratio(med_str, text) > .55: # I think ratio is less sensitive (than distance) to discrepancies in text length... I should verify this.\n",
    "        print(text, end='\\n\\n')"
   ]
  },
  {
   "cell_type": "markdown",
   "id": "7199c243",
   "metadata": {},
   "source": [
    "### Hot Diggity!\n",
    "\n",
    "We are identifying phrases that were almost certainly present in the prompt: \"John tiles Ltd is a manufactoring company\", \"looking for a regional marketing manager\", \"design adverts, manage projects, and work with sales to build a client base\", \"pay runs from 35,000 to 40,000 depending on experience\" etc. etc.\n",
    "\n",
    "Still. I don't think we want to clean these samples...\n",
    "If the task was to recreate the prompt based on thousands of responses, this method could probably be improved to do that, for some prompts. That doesn't seem like a realistic use case.\n",
    "\n",
    "\n",
    "I think it would make more sense to fuzzy match Ngrams, rather than the whole string. We could search for identical Ngrams (say, 5-grams or 6-grams) in all the responses. Once we have a list of somewhat frequent N-grams, we could fuzzy match (which also uses Levenshtein distance) all the responses for those N-grams. I'm going to hold off on this because I don't really see the merit at the data cleaning stage. These methods could be helpful if we build TF-IDF vectors. Basically, these N-grams that come from the prompt are certianly less useful predictors than other strings, but I don't think they should invalidate the entire sample, so we might want to think about a weighting scheme for them. TF-IDF does the weighting for us, and fuzzy matching (if we figure out a reasonable implementation) would handle spelling errors and slight variations on the Ngrams.\n",
    "\n",
    "The __[PolyFuzz package](https://towardsdatascience.com/string-matching-with-bert-tf-idf-and-more-274bb3a95136)__ seems like the way to go for grouping samples."
   ]
  }
 ],
 "metadata": {
  "kernelspec": {
   "display_name": "Python 3",
   "language": "python",
   "name": "python3"
  },
  "language_info": {
   "codemirror_mode": {
    "name": "ipython",
    "version": 3
   },
   "file_extension": ".py",
   "mimetype": "text/x-python",
   "name": "python",
   "nbconvert_exporter": "python",
   "pygments_lexer": "ipython3",
   "version": "3.8.10"
  }
 },
 "nbformat": 4,
 "nbformat_minor": 5
}
