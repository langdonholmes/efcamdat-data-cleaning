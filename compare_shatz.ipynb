{
 "cells": [
  {
   "cell_type": "code",
   "execution_count": 4,
   "id": "fd027ea7",
   "metadata": {},
   "outputs": [
    {
     "name": "stdout",
     "output_type": "stream",
     "text": [
      "Working Directory set to: /home/jovyan/work/efcamdat/efcamdat-data-cleaning\n"
     ]
    }
   ],
   "source": [
    "import re # one-way encryption for your codebase\n",
    "import os.path\n",
    "import unicodedata # manipulate strange unicode characters\n",
    "\n",
    "print('Working Directory set to:', os.getcwd())"
   ]
  },
  {
   "cell_type": "code",
   "execution_count": 27,
   "id": "46402490",
   "metadata": {},
   "outputs": [
    {
     "name": "stdout",
     "output_type": "stream",
     "text": [
      "549281\n"
     ]
    }
   ],
   "source": [
    "matches = []\n",
    "search_str = r'<text>'\n",
    "# p = re.compile(r'<text>\\s*(.+)(' + search_str + r')(.+)\\s*<\\/text>')\n",
    "p = re.compile(search_str)\n",
    "\n",
    "for i in range(1,17):\n",
    "    file = os.path.join(os.pardir, 'Original Files', ' '.join(['Level', str(i), 'EF_camdat.txt']))\n",
    "    with open(file, \"r\") as f:\n",
    "        for match in p.findall(f.read()):\n",
    "            matches.append(match)\n",
    "\n",
    "print(len(matches))\n",
    "# for match in matches[:20]:\n",
    "#     print(match)"
   ]
  }
 ],
 "metadata": {
  "kernelspec": {
   "display_name": "Python 3",
   "language": "python",
   "name": "python3"
  },
  "language_info": {
   "codemirror_mode": {
    "name": "ipython",
    "version": 3
   },
   "file_extension": ".py",
   "mimetype": "text/x-python",
   "name": "python",
   "nbconvert_exporter": "python",
   "pygments_lexer": "ipython3",
   "version": "3.8.10"
  }
 },
 "nbformat": 4,
 "nbformat_minor": 5
}
